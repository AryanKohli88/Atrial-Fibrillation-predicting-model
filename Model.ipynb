{
  "nbformat": 4,
  "nbformat_minor": 0,
  "metadata": {
    "colab": {
      "provenance": [],
      "authorship_tag": "ABX9TyMCB+EhxK80iyrchioHIU6m",
      "include_colab_link": true
    },
    "kernelspec": {
      "name": "python3",
      "display_name": "Python 3"
    },
    "language_info": {
      "name": "python"
    }
  },
  "cells": [
    {
      "cell_type": "markdown",
      "metadata": {
        "id": "view-in-github",
        "colab_type": "text"
      },
      "source": [
        "<a href=\"https://colab.research.google.com/github/AryanKohli88/Atrial-Fibrillation-predicting-model/blob/main/Model.ipynb\" target=\"_parent\"><img src=\"https://colab.research.google.com/assets/colab-badge.svg\" alt=\"Open In Colab\"/></a>"
      ]
    },
    {
      "cell_type": "code",
      "execution_count": 66,
      "metadata": {
        "colab": {
          "base_uri": "https://localhost:8080/"
        },
        "id": "LYt_UcHay4h1",
        "outputId": "233a544c-4f4e-4fa8-f543-fc15a778f359"
      },
      "outputs": [
        {
          "output_type": "stream",
          "name": "stdout",
          "text": [
            "<class 'pandas.core.frame.DataFrame'>\n",
            "RangeIndex: 18370 entries, 0 to 18369\n",
            "Columns: 271 entries, TS_0 to CLASS\n",
            "dtypes: float64(270), object(1)\n",
            "memory usage: 38.0+ MB\n"
          ]
        }
      ],
      "source": [
        "import pandas as pd\n",
        "import numpy as np\n",
        "from google.colab import drive\n",
        "# drive.mount('/content/gdrive')\n",
        "df = pd.read_csv('physionet_A_N.csv')\n",
        "df.info()"
      ]
    },
    {
      "cell_type": "code",
      "source": [
        "df.isnull().sum() ## So we see there are no null values"
      ],
      "metadata": {
        "colab": {
          "base_uri": "https://localhost:8080/"
        },
        "id": "Co6_e_mAzilS",
        "outputId": "d853645c-a05b-4182-a811-e918cf31e4eb"
      },
      "execution_count": 67,
      "outputs": [
        {
          "output_type": "execute_result",
          "data": {
            "text/plain": [
              "TS_0      0\n",
              "TS_1      0\n",
              "TS_2      0\n",
              "TS_3      0\n",
              "TS_4      0\n",
              "         ..\n",
              "TS_266    0\n",
              "TS_267    0\n",
              "TS_268    0\n",
              "TS_269    0\n",
              "CLASS     0\n",
              "Length: 271, dtype: int64"
            ]
          },
          "metadata": {},
          "execution_count": 67
        }
      ]
    },
    {
      "cell_type": "code",
      "source": [
        "df.describe()"
      ],
      "metadata": {
        "colab": {
          "base_uri": "https://localhost:8080/",
          "height": 394
        },
        "id": "pgpJfsvV0mde",
        "outputId": "7874689c-0002-4dd1-be96-edd9d700f249"
      },
      "execution_count": 68,
      "outputs": [
        {
          "output_type": "execute_result",
          "data": {
            "text/plain": [
              "               TS_0          TS_1          TS_2          TS_3          TS_4  \\\n",
              "count  18370.000000  18370.000000  18370.000000  18370.000000  18370.000000   \n",
              "mean       6.460425      5.024823      4.541698      6.391889      6.158356   \n",
              "std      272.334830    420.495452    402.284830    386.746853    378.025853   \n",
              "min    -3614.000000  -6466.000000  -5019.000000  -4764.000000  -5952.000000   \n",
              "25%      -71.000000    -79.000000    -79.000000    -79.000000    -79.000000   \n",
              "50%       -8.000000     -9.000000     -9.000000     -9.000000    -11.000000   \n",
              "75%       72.000000     82.000000     82.000000     80.000000     80.000000   \n",
              "max     3344.000000   5514.000000   6134.000000   6305.000000   6479.000000   \n",
              "\n",
              "               TS_5          TS_6          TS_7          TS_8          TS_9  \\\n",
              "count  18370.000000  18370.000000  18370.000000  18370.000000  18370.000000   \n",
              "mean       5.750136      4.165106      3.910996      3.444529      3.132281   \n",
              "std      364.795591    347.348664    343.027604    337.468859    324.780727   \n",
              "min    -6422.000000  -5255.000000  -6984.000000  -4687.000000  -5096.000000   \n",
              "25%      -77.000000    -77.000000    -75.000000    -75.000000    -75.000000   \n",
              "50%      -10.000000    -10.000000    -10.000000     -9.000000     -8.000000   \n",
              "75%       79.000000     77.000000     73.000000     73.000000     70.750000   \n",
              "max     5658.000000   5728.000000   5847.000000   6070.000000   5308.000000   \n",
              "\n",
              "       ...        TS_260        TS_261        TS_262        TS_263  \\\n",
              "count  ...  18370.000000  18370.000000  18370.000000  18370.000000   \n",
              "mean   ...      7.016222      8.752041      8.110343     10.027055   \n",
              "std    ...    198.537713    192.926446    197.262111    199.259975   \n",
              "min    ...  -3479.000000  -2398.000000  -2790.000000  -3484.000000   \n",
              "25%    ...    -60.000000    -59.000000    -59.000000    -59.000000   \n",
              "50%    ...     -9.000000    -10.000000    -10.000000     -9.000000   \n",
              "75%    ...     53.000000     52.000000     52.000000     53.000000   \n",
              "max    ...   3109.000000   4482.000000   5790.000000   5405.000000   \n",
              "\n",
              "             TS_264        TS_265        TS_266        TS_267        TS_268  \\\n",
              "count  18370.000000  18370.000000  18370.000000  18370.000000  18370.000000   \n",
              "mean       7.581383      7.465705      9.962929      9.961132      8.139575   \n",
              "std      196.717561    199.346913    199.376930    197.770150    197.604523   \n",
              "min    -3402.000000  -3597.000000  -3756.000000  -3384.000000  -3154.000000   \n",
              "25%      -60.000000    -60.000000    -59.000000    -59.000000    -59.000000   \n",
              "50%      -10.000000    -10.000000    -10.000000    -10.000000     -9.000000   \n",
              "75%       53.000000     52.000000     55.000000     55.000000     53.000000   \n",
              "max     4082.000000   4027.000000   4170.000000   3503.000000   3908.000000   \n",
              "\n",
              "             TS_269  \n",
              "count  18370.000000  \n",
              "mean       8.737180  \n",
              "std      201.765898  \n",
              "min    -4153.000000  \n",
              "25%      -58.000000  \n",
              "50%      -10.000000  \n",
              "75%       53.000000  \n",
              "max     3190.000000  \n",
              "\n",
              "[8 rows x 270 columns]"
            ],
            "text/html": [
              "\n",
              "  <div id=\"df-a559ff0b-daf6-419f-a339-5af677ef7be2\">\n",
              "    <div class=\"colab-df-container\">\n",
              "      <div>\n",
              "<style scoped>\n",
              "    .dataframe tbody tr th:only-of-type {\n",
              "        vertical-align: middle;\n",
              "    }\n",
              "\n",
              "    .dataframe tbody tr th {\n",
              "        vertical-align: top;\n",
              "    }\n",
              "\n",
              "    .dataframe thead th {\n",
              "        text-align: right;\n",
              "    }\n",
              "</style>\n",
              "<table border=\"1\" class=\"dataframe\">\n",
              "  <thead>\n",
              "    <tr style=\"text-align: right;\">\n",
              "      <th></th>\n",
              "      <th>TS_0</th>\n",
              "      <th>TS_1</th>\n",
              "      <th>TS_2</th>\n",
              "      <th>TS_3</th>\n",
              "      <th>TS_4</th>\n",
              "      <th>TS_5</th>\n",
              "      <th>TS_6</th>\n",
              "      <th>TS_7</th>\n",
              "      <th>TS_8</th>\n",
              "      <th>TS_9</th>\n",
              "      <th>...</th>\n",
              "      <th>TS_260</th>\n",
              "      <th>TS_261</th>\n",
              "      <th>TS_262</th>\n",
              "      <th>TS_263</th>\n",
              "      <th>TS_264</th>\n",
              "      <th>TS_265</th>\n",
              "      <th>TS_266</th>\n",
              "      <th>TS_267</th>\n",
              "      <th>TS_268</th>\n",
              "      <th>TS_269</th>\n",
              "    </tr>\n",
              "  </thead>\n",
              "  <tbody>\n",
              "    <tr>\n",
              "      <th>count</th>\n",
              "      <td>18370.000000</td>\n",
              "      <td>18370.000000</td>\n",
              "      <td>18370.000000</td>\n",
              "      <td>18370.000000</td>\n",
              "      <td>18370.000000</td>\n",
              "      <td>18370.000000</td>\n",
              "      <td>18370.000000</td>\n",
              "      <td>18370.000000</td>\n",
              "      <td>18370.000000</td>\n",
              "      <td>18370.000000</td>\n",
              "      <td>...</td>\n",
              "      <td>18370.000000</td>\n",
              "      <td>18370.000000</td>\n",
              "      <td>18370.000000</td>\n",
              "      <td>18370.000000</td>\n",
              "      <td>18370.000000</td>\n",
              "      <td>18370.000000</td>\n",
              "      <td>18370.000000</td>\n",
              "      <td>18370.000000</td>\n",
              "      <td>18370.000000</td>\n",
              "      <td>18370.000000</td>\n",
              "    </tr>\n",
              "    <tr>\n",
              "      <th>mean</th>\n",
              "      <td>6.460425</td>\n",
              "      <td>5.024823</td>\n",
              "      <td>4.541698</td>\n",
              "      <td>6.391889</td>\n",
              "      <td>6.158356</td>\n",
              "      <td>5.750136</td>\n",
              "      <td>4.165106</td>\n",
              "      <td>3.910996</td>\n",
              "      <td>3.444529</td>\n",
              "      <td>3.132281</td>\n",
              "      <td>...</td>\n",
              "      <td>7.016222</td>\n",
              "      <td>8.752041</td>\n",
              "      <td>8.110343</td>\n",
              "      <td>10.027055</td>\n",
              "      <td>7.581383</td>\n",
              "      <td>7.465705</td>\n",
              "      <td>9.962929</td>\n",
              "      <td>9.961132</td>\n",
              "      <td>8.139575</td>\n",
              "      <td>8.737180</td>\n",
              "    </tr>\n",
              "    <tr>\n",
              "      <th>std</th>\n",
              "      <td>272.334830</td>\n",
              "      <td>420.495452</td>\n",
              "      <td>402.284830</td>\n",
              "      <td>386.746853</td>\n",
              "      <td>378.025853</td>\n",
              "      <td>364.795591</td>\n",
              "      <td>347.348664</td>\n",
              "      <td>343.027604</td>\n",
              "      <td>337.468859</td>\n",
              "      <td>324.780727</td>\n",
              "      <td>...</td>\n",
              "      <td>198.537713</td>\n",
              "      <td>192.926446</td>\n",
              "      <td>197.262111</td>\n",
              "      <td>199.259975</td>\n",
              "      <td>196.717561</td>\n",
              "      <td>199.346913</td>\n",
              "      <td>199.376930</td>\n",
              "      <td>197.770150</td>\n",
              "      <td>197.604523</td>\n",
              "      <td>201.765898</td>\n",
              "    </tr>\n",
              "    <tr>\n",
              "      <th>min</th>\n",
              "      <td>-3614.000000</td>\n",
              "      <td>-6466.000000</td>\n",
              "      <td>-5019.000000</td>\n",
              "      <td>-4764.000000</td>\n",
              "      <td>-5952.000000</td>\n",
              "      <td>-6422.000000</td>\n",
              "      <td>-5255.000000</td>\n",
              "      <td>-6984.000000</td>\n",
              "      <td>-4687.000000</td>\n",
              "      <td>-5096.000000</td>\n",
              "      <td>...</td>\n",
              "      <td>-3479.000000</td>\n",
              "      <td>-2398.000000</td>\n",
              "      <td>-2790.000000</td>\n",
              "      <td>-3484.000000</td>\n",
              "      <td>-3402.000000</td>\n",
              "      <td>-3597.000000</td>\n",
              "      <td>-3756.000000</td>\n",
              "      <td>-3384.000000</td>\n",
              "      <td>-3154.000000</td>\n",
              "      <td>-4153.000000</td>\n",
              "    </tr>\n",
              "    <tr>\n",
              "      <th>25%</th>\n",
              "      <td>-71.000000</td>\n",
              "      <td>-79.000000</td>\n",
              "      <td>-79.000000</td>\n",
              "      <td>-79.000000</td>\n",
              "      <td>-79.000000</td>\n",
              "      <td>-77.000000</td>\n",
              "      <td>-77.000000</td>\n",
              "      <td>-75.000000</td>\n",
              "      <td>-75.000000</td>\n",
              "      <td>-75.000000</td>\n",
              "      <td>...</td>\n",
              "      <td>-60.000000</td>\n",
              "      <td>-59.000000</td>\n",
              "      <td>-59.000000</td>\n",
              "      <td>-59.000000</td>\n",
              "      <td>-60.000000</td>\n",
              "      <td>-60.000000</td>\n",
              "      <td>-59.000000</td>\n",
              "      <td>-59.000000</td>\n",
              "      <td>-59.000000</td>\n",
              "      <td>-58.000000</td>\n",
              "    </tr>\n",
              "    <tr>\n",
              "      <th>50%</th>\n",
              "      <td>-8.000000</td>\n",
              "      <td>-9.000000</td>\n",
              "      <td>-9.000000</td>\n",
              "      <td>-9.000000</td>\n",
              "      <td>-11.000000</td>\n",
              "      <td>-10.000000</td>\n",
              "      <td>-10.000000</td>\n",
              "      <td>-10.000000</td>\n",
              "      <td>-9.000000</td>\n",
              "      <td>-8.000000</td>\n",
              "      <td>...</td>\n",
              "      <td>-9.000000</td>\n",
              "      <td>-10.000000</td>\n",
              "      <td>-10.000000</td>\n",
              "      <td>-9.000000</td>\n",
              "      <td>-10.000000</td>\n",
              "      <td>-10.000000</td>\n",
              "      <td>-10.000000</td>\n",
              "      <td>-10.000000</td>\n",
              "      <td>-9.000000</td>\n",
              "      <td>-10.000000</td>\n",
              "    </tr>\n",
              "    <tr>\n",
              "      <th>75%</th>\n",
              "      <td>72.000000</td>\n",
              "      <td>82.000000</td>\n",
              "      <td>82.000000</td>\n",
              "      <td>80.000000</td>\n",
              "      <td>80.000000</td>\n",
              "      <td>79.000000</td>\n",
              "      <td>77.000000</td>\n",
              "      <td>73.000000</td>\n",
              "      <td>73.000000</td>\n",
              "      <td>70.750000</td>\n",
              "      <td>...</td>\n",
              "      <td>53.000000</td>\n",
              "      <td>52.000000</td>\n",
              "      <td>52.000000</td>\n",
              "      <td>53.000000</td>\n",
              "      <td>53.000000</td>\n",
              "      <td>52.000000</td>\n",
              "      <td>55.000000</td>\n",
              "      <td>55.000000</td>\n",
              "      <td>53.000000</td>\n",
              "      <td>53.000000</td>\n",
              "    </tr>\n",
              "    <tr>\n",
              "      <th>max</th>\n",
              "      <td>3344.000000</td>\n",
              "      <td>5514.000000</td>\n",
              "      <td>6134.000000</td>\n",
              "      <td>6305.000000</td>\n",
              "      <td>6479.000000</td>\n",
              "      <td>5658.000000</td>\n",
              "      <td>5728.000000</td>\n",
              "      <td>5847.000000</td>\n",
              "      <td>6070.000000</td>\n",
              "      <td>5308.000000</td>\n",
              "      <td>...</td>\n",
              "      <td>3109.000000</td>\n",
              "      <td>4482.000000</td>\n",
              "      <td>5790.000000</td>\n",
              "      <td>5405.000000</td>\n",
              "      <td>4082.000000</td>\n",
              "      <td>4027.000000</td>\n",
              "      <td>4170.000000</td>\n",
              "      <td>3503.000000</td>\n",
              "      <td>3908.000000</td>\n",
              "      <td>3190.000000</td>\n",
              "    </tr>\n",
              "  </tbody>\n",
              "</table>\n",
              "<p>8 rows × 270 columns</p>\n",
              "</div>\n",
              "      <button class=\"colab-df-convert\" onclick=\"convertToInteractive('df-a559ff0b-daf6-419f-a339-5af677ef7be2')\"\n",
              "              title=\"Convert this dataframe to an interactive table.\"\n",
              "              style=\"display:none;\">\n",
              "        \n",
              "  <svg xmlns=\"http://www.w3.org/2000/svg\" height=\"24px\"viewBox=\"0 0 24 24\"\n",
              "       width=\"24px\">\n",
              "    <path d=\"M0 0h24v24H0V0z\" fill=\"none\"/>\n",
              "    <path d=\"M18.56 5.44l.94 2.06.94-2.06 2.06-.94-2.06-.94-.94-2.06-.94 2.06-2.06.94zm-11 1L8.5 8.5l.94-2.06 2.06-.94-2.06-.94L8.5 2.5l-.94 2.06-2.06.94zm10 10l.94 2.06.94-2.06 2.06-.94-2.06-.94-.94-2.06-.94 2.06-2.06.94z\"/><path d=\"M17.41 7.96l-1.37-1.37c-.4-.4-.92-.59-1.43-.59-.52 0-1.04.2-1.43.59L10.3 9.45l-7.72 7.72c-.78.78-.78 2.05 0 2.83L4 21.41c.39.39.9.59 1.41.59.51 0 1.02-.2 1.41-.59l7.78-7.78 2.81-2.81c.8-.78.8-2.07 0-2.86zM5.41 20L4 18.59l7.72-7.72 1.47 1.35L5.41 20z\"/>\n",
              "  </svg>\n",
              "      </button>\n",
              "      \n",
              "  <style>\n",
              "    .colab-df-container {\n",
              "      display:flex;\n",
              "      flex-wrap:wrap;\n",
              "      gap: 12px;\n",
              "    }\n",
              "\n",
              "    .colab-df-convert {\n",
              "      background-color: #E8F0FE;\n",
              "      border: none;\n",
              "      border-radius: 50%;\n",
              "      cursor: pointer;\n",
              "      display: none;\n",
              "      fill: #1967D2;\n",
              "      height: 32px;\n",
              "      padding: 0 0 0 0;\n",
              "      width: 32px;\n",
              "    }\n",
              "\n",
              "    .colab-df-convert:hover {\n",
              "      background-color: #E2EBFA;\n",
              "      box-shadow: 0px 1px 2px rgba(60, 64, 67, 0.3), 0px 1px 3px 1px rgba(60, 64, 67, 0.15);\n",
              "      fill: #174EA6;\n",
              "    }\n",
              "\n",
              "    [theme=dark] .colab-df-convert {\n",
              "      background-color: #3B4455;\n",
              "      fill: #D2E3FC;\n",
              "    }\n",
              "\n",
              "    [theme=dark] .colab-df-convert:hover {\n",
              "      background-color: #434B5C;\n",
              "      box-shadow: 0px 1px 3px 1px rgba(0, 0, 0, 0.15);\n",
              "      filter: drop-shadow(0px 1px 2px rgba(0, 0, 0, 0.3));\n",
              "      fill: #FFFFFF;\n",
              "    }\n",
              "  </style>\n",
              "\n",
              "      <script>\n",
              "        const buttonEl =\n",
              "          document.querySelector('#df-a559ff0b-daf6-419f-a339-5af677ef7be2 button.colab-df-convert');\n",
              "        buttonEl.style.display =\n",
              "          google.colab.kernel.accessAllowed ? 'block' : 'none';\n",
              "\n",
              "        async function convertToInteractive(key) {\n",
              "          const element = document.querySelector('#df-a559ff0b-daf6-419f-a339-5af677ef7be2');\n",
              "          const dataTable =\n",
              "            await google.colab.kernel.invokeFunction('convertToInteractive',\n",
              "                                                     [key], {});\n",
              "          if (!dataTable) return;\n",
              "\n",
              "          const docLinkHtml = 'Like what you see? Visit the ' +\n",
              "            '<a target=\"_blank\" href=https://colab.research.google.com/notebooks/data_table.ipynb>data table notebook</a>'\n",
              "            + ' to learn more about interactive tables.';\n",
              "          element.innerHTML = '';\n",
              "          dataTable['output_type'] = 'display_data';\n",
              "          await google.colab.output.renderOutput(dataTable, element);\n",
              "          const docLink = document.createElement('div');\n",
              "          docLink.innerHTML = docLinkHtml;\n",
              "          element.appendChild(docLink);\n",
              "        }\n",
              "      </script>\n",
              "    </div>\n",
              "  </div>\n",
              "  "
            ]
          },
          "metadata": {},
          "execution_count": 68
        }
      ]
    },
    {
      "cell_type": "markdown",
      "source": [
        "From the Above Description we conclude that the features are Catagorical as the final \"CLASS\" will either be \"A\" or \"N\".\n"
      ],
      "metadata": {
        "id": "UDCbzxE4jvzO"
      }
    },
    {
      "cell_type": "code",
      "source": [
        "dupcols = set()\n",
        "for x in range(df.shape[1]):\n",
        "  base_col = df.iloc[:,x]\n",
        "  for y in range(x+1, df.shape[1]):\n",
        "    comp_col = df.iloc[:,y]\n",
        "\n",
        "    if base_col.equals(comp_col):\n",
        "      dupcols.add(df.columns.values[y])\n",
        "\n",
        "print(dupcols)\n",
        "\n",
        "## hence we conclude there are no duplicate features in the given data"
      ],
      "metadata": {
        "colab": {
          "base_uri": "https://localhost:8080/"
        },
        "id": "sMhKMde-lpDX",
        "outputId": "37280cc9-7cdc-4ed5-d1ee-f9b732b17ea9"
      },
      "execution_count": 69,
      "outputs": [
        {
          "output_type": "stream",
          "name": "stdout",
          "text": [
            "set()\n"
          ]
        }
      ]
    },
    {
      "cell_type": "markdown",
      "source": [
        "# Analysing Features"
      ],
      "metadata": {
        "id": "_lOSBOjzn1hY"
      }
    },
    {
      "cell_type": "code",
      "source": [
        "df['Sum'] = df.sum(axis=1)\n",
        "df['CLASS'].replace({'N':0 , \"A\":1}, inplace = True)\n",
        "corr_matrix = df.corr()\n",
        "(np.sqrt((corr_matrix['CLASS'])*(corr_matrix['CLASS']))).sort_values() "
      ],
      "metadata": {
        "colab": {
          "base_uri": "https://localhost:8080/"
        },
        "id": "fQZPQWamohy9",
        "outputId": "6f65cde7-1b54-4e63-a3b8-ba101aa10c3a"
      },
      "execution_count": 70,
      "outputs": [
        {
          "output_type": "stream",
          "name": "stderr",
          "text": [
            "<ipython-input-70-cf4cd9bff158>:1: FutureWarning: Dropping of nuisance columns in DataFrame reductions (with 'numeric_only=None') is deprecated; in a future version this will raise TypeError.  Select only valid columns before calling the reduction.\n",
            "  df['Sum'] = df.sum(axis=1)\n"
          ]
        },
        {
          "output_type": "execute_result",
          "data": {
            "text/plain": [
              "TS_162    0.000024\n",
              "TS_237    0.000038\n",
              "TS_57     0.000101\n",
              "TS_101    0.000178\n",
              "TS_35     0.000214\n",
              "            ...   \n",
              "TS_85     0.017930\n",
              "TS_182    0.018926\n",
              "TS_128    0.019335\n",
              "TS_92     0.021560\n",
              "CLASS     1.000000\n",
              "Name: CLASS, Length: 272, dtype: float64"
            ]
          },
          "metadata": {},
          "execution_count": 70
        }
      ]
    },
    {
      "cell_type": "markdown",
      "source": [
        "This Shows that a lot of features are not effecting the output a lot. We will drop features for whome magnitude of correlation outpur is less than 0.005"
      ],
      "metadata": {
        "id": "COG7ix3Zv2Jl"
      }
    },
    {
      "cell_type": "code",
      "source": [
        "corr_matrix = corr_matrix.unstack()\n",
        "filtered_matrix = corr_matrix[abs(corr_matrix)>0.005]\n",
        "print(filtered_matrix['CLASS'])"
      ],
      "metadata": {
        "id": "VTm3lkaHxNCZ",
        "colab": {
          "base_uri": "https://localhost:8080/"
        },
        "outputId": "8f794b83-bf52-4607-b4ec-ec1b5df79e6f"
      },
      "execution_count": 71,
      "outputs": [
        {
          "output_type": "stream",
          "name": "stdout",
          "text": [
            "TS_0      0.013327\n",
            "TS_1      0.006802\n",
            "TS_4     -0.007100\n",
            "TS_6     -0.005801\n",
            "TS_7      0.009615\n",
            "            ...   \n",
            "TS_260    0.005419\n",
            "TS_263   -0.008422\n",
            "TS_267   -0.012598\n",
            "TS_269    0.005345\n",
            "CLASS     1.000000\n",
            "Length: 122, dtype: float64\n"
          ]
        }
      ]
    },
    {
      "cell_type": "code",
      "source": [
        "X = df.drop(columns='CLASS', axis =1)\n",
        "Y = df['CLASS']"
      ],
      "metadata": {
        "id": "OuOZ5_Rw2VJU"
      },
      "execution_count": 72,
      "outputs": []
    },
    {
      "cell_type": "code",
      "source": [
        "from sklearn.model_selection import train_test_split\n",
        "# del X_train\n",
        "# del X_test\n",
        "# del Y_train\n",
        "# del Y_test\n",
        "X_train, X_test, Y_train, Y_test = train_test_split(X,Y, test_size =0.2, stratify = Y, random_state =42)"
      ],
      "metadata": {
        "id": "pKEx29dG1_jJ"
      },
      "execution_count": 73,
      "outputs": []
    },
    {
      "cell_type": "code",
      "source": [
        "print(X.shape, X_train.shape, X_test.shape)"
      ],
      "metadata": {
        "colab": {
          "base_uri": "https://localhost:8080/"
        },
        "id": "bfJgF9ZP2vv-",
        "outputId": "23e84731-76f1-4483-b728-765c9721e017"
      },
      "execution_count": 74,
      "outputs": [
        {
          "output_type": "stream",
          "name": "stdout",
          "text": [
            "(18370, 271) (14696, 271) (3674, 271)\n"
          ]
        }
      ]
    },
    {
      "cell_type": "markdown",
      "source": [
        "# Model Training"
      ],
      "metadata": {
        "id": "ItjCuDIR79uZ"
      }
    },
    {
      "cell_type": "code",
      "source": [
        "# # using logical regression model\n",
        "from sklearn.linear_model import LogisticRegression\n",
        "model = LogisticRegression()"
      ],
      "metadata": {
        "id": "KMwIXd0m20XW"
      },
      "execution_count": 75,
      "outputs": []
    },
    {
      "cell_type": "code",
      "source": [
        "# # using descision tree model\n",
        "# from sklearn.tree import DecisionTreeRegressor\n",
        "# from sklearn.model_selection import cross_val_score\n",
        "# model = DecisionTreeRegressor()"
      ],
      "metadata": {
        "id": "4Sfuls-NWtfy"
      },
      "execution_count": 76,
      "outputs": []
    },
    {
      "cell_type": "code",
      "source": [
        "model.fit(X_train, Y_train)"
      ],
      "metadata": {
        "id": "Cuw6ANOFYnqZ",
        "colab": {
          "base_uri": "https://localhost:8080/"
        },
        "outputId": "1c3bbf09-08fc-4e83-869b-f2fbbc029a63"
      },
      "execution_count": 77,
      "outputs": [
        {
          "output_type": "stream",
          "name": "stderr",
          "text": [
            "/usr/local/lib/python3.8/dist-packages/sklearn/linear_model/_logistic.py:814: ConvergenceWarning: lbfgs failed to converge (status=1):\n",
            "STOP: TOTAL NO. of ITERATIONS REACHED LIMIT.\n",
            "\n",
            "Increase the number of iterations (max_iter) or scale the data as shown in:\n",
            "    https://scikit-learn.org/stable/modules/preprocessing.html\n",
            "Please also refer to the documentation for alternative solver options:\n",
            "    https://scikit-learn.org/stable/modules/linear_model.html#logistic-regression\n",
            "  n_iter_i = _check_optimize_result(\n"
          ]
        },
        {
          "output_type": "execute_result",
          "data": {
            "text/plain": [
              "LogisticRegression()"
            ]
          },
          "metadata": {},
          "execution_count": 77
        }
      ]
    },
    {
      "cell_type": "markdown",
      "source": [
        "Hence, LogisticRegression model gives better results\n"
      ],
      "metadata": {
        "id": "6v8vo5p5HmWO"
      }
    },
    {
      "cell_type": "markdown",
      "source": [
        "# Model evaluation - Accuracy score"
      ],
      "metadata": {
        "id": "uS3aTk9cQPsh"
      }
    },
    {
      "cell_type": "markdown",
      "source": [
        "Accuracy on training set"
      ],
      "metadata": {
        "id": "sKKR0krcI0SI"
      }
    },
    {
      "cell_type": "code",
      "source": [
        "from sklearn.metrics import accuracy_score\n",
        "X_train_predict = model.predict(X_train)\n",
        "training_data_accuracy = accuracy_score(X_train_predict, Y_train)\n",
        "print(training_data_accuracy)"
      ],
      "metadata": {
        "colab": {
          "base_uri": "https://localhost:8080/"
        },
        "id": "D7Ibn8FEP51S",
        "outputId": "55df871f-9ce8-4673-c569-51ae5b8cff6d"
      },
      "execution_count": 78,
      "outputs": [
        {
          "output_type": "stream",
          "name": "stdout",
          "text": [
            "0.8302259118127382\n"
          ]
        }
      ]
    },
    {
      "cell_type": "markdown",
      "source": [
        "Accuracy on test set"
      ],
      "metadata": {
        "id": "OAGadg8iI3Sv"
      }
    },
    {
      "cell_type": "code",
      "source": [
        "from sklearn.metrics import accuracy_score\n",
        "X_test_predict = model.predict(X_test)\n",
        "test_data_accuracy = accuracy_score(X_test_predict, Y_test)\n",
        "print(test_data_accuracy)"
      ],
      "metadata": {
        "colab": {
          "base_uri": "https://localhost:8080/"
        },
        "id": "OPkjI7ANRI_i",
        "outputId": "d58f4a40-09df-44d9-8f15-97b920928a06"
      },
      "execution_count": 79,
      "outputs": [
        {
          "output_type": "stream",
          "name": "stdout",
          "text": [
            "0.8206314643440392\n"
          ]
        }
      ]
    }
  ]
}