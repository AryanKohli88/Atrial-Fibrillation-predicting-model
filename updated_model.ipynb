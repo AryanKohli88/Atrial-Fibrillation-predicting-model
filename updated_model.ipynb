{
  "nbformat": 4,
  "nbformat_minor": 0,
  "metadata": {
    "colab": {
      "provenance": [],
      "include_colab_link": true
    },
    "kernelspec": {
      "name": "python3",
      "display_name": "Python 3"
    },
    "language_info": {
      "name": "python"
    }
  },
  "cells": [
    {
      "cell_type": "markdown",
      "metadata": {
        "id": "view-in-github",
        "colab_type": "text"
      },
      "source": [
        "<a href=\"https://colab.research.google.com/github/AryanKohli88/Atrial-Fibrillation-predicting-model/blob/updated/updated_model.ipynb\" target=\"_parent\"><img src=\"https://colab.research.google.com/assets/colab-badge.svg\" alt=\"Open In Colab\"/></a>"
      ]
    },
    {
      "cell_type": "code",
      "execution_count": null,
      "metadata": {
        "colab": {
          "base_uri": "https://localhost:8080/"
        },
        "id": "LYt_UcHay4h1",
        "outputId": "f15e9ad1-df3f-460d-9ec8-0d96ca0959e0"
      },
      "outputs": [
        {
          "output_type": "stream",
          "name": "stdout",
          "text": [
            "<class 'pandas.core.frame.DataFrame'>\n",
            "RangeIndex: 18370 entries, 0 to 18369\n",
            "Columns: 271 entries, TS_0 to CLASS\n",
            "dtypes: float64(270), object(1)\n",
            "memory usage: 38.0+ MB\n"
          ]
        }
      ],
      "source": [
        "import pandas as pd\n",
        "import numpy as np\n",
        "from google.colab import drive\n",
        "# drive.mount('/content/gdrive')\n",
        "df = pd.read_csv('physionet_A_N.csv')\n",
        "df.info()"
      ]
    },
    {
      "cell_type": "code",
      "source": [
        "df.isnull().sum() ## So we see there are no null values"
      ],
      "metadata": {
        "colab": {
          "base_uri": "https://localhost:8080/"
        },
        "id": "Co6_e_mAzilS",
        "outputId": "ec8e067f-dbb7-47f5-a991-4f111c32b052"
      },
      "execution_count": null,
      "outputs": [
        {
          "output_type": "execute_result",
          "data": {
            "text/plain": [
              "TS_0      0\n",
              "TS_1      0\n",
              "TS_2      0\n",
              "TS_3      0\n",
              "TS_4      0\n",
              "         ..\n",
              "TS_266    0\n",
              "TS_267    0\n",
              "TS_268    0\n",
              "TS_269    0\n",
              "CLASS     0\n",
              "Length: 271, dtype: int64"
            ]
          },
          "metadata": {},
          "execution_count": 2
        }
      ]
    },
    {
      "cell_type": "code",
      "source": [
        "df.describe()"
      ],
      "metadata": {
        "colab": {
          "base_uri": "https://localhost:8080/",
          "height": 393
        },
        "id": "pgpJfsvV0mde",
        "outputId": "ed59d435-cf44-4346-c2df-3528b6d893a0"
      },
      "execution_count": null,
      "outputs": [
        {
          "output_type": "execute_result",
          "data": {
            "text/plain": [
              "               TS_0          TS_1          TS_2          TS_3          TS_4  \\\n",
              "count  18370.000000  18370.000000  18370.000000  18370.000000  18370.000000   \n",
              "mean       6.460425      5.024823      4.541698      6.391889      6.158356   \n",
              "std      272.334830    420.495452    402.284830    386.746853    378.025853   \n",
              "min    -3614.000000  -6466.000000  -5019.000000  -4764.000000  -5952.000000   \n",
              "25%      -71.000000    -79.000000    -79.000000    -79.000000    -79.000000   \n",
              "50%       -8.000000     -9.000000     -9.000000     -9.000000    -11.000000   \n",
              "75%       72.000000     82.000000     82.000000     80.000000     80.000000   \n",
              "max     3344.000000   5514.000000   6134.000000   6305.000000   6479.000000   \n",
              "\n",
              "               TS_5          TS_6          TS_7          TS_8          TS_9  \\\n",
              "count  18370.000000  18370.000000  18370.000000  18370.000000  18370.000000   \n",
              "mean       5.750136      4.165106      3.910996      3.444529      3.132281   \n",
              "std      364.795591    347.348664    343.027604    337.468859    324.780727   \n",
              "min    -6422.000000  -5255.000000  -6984.000000  -4687.000000  -5096.000000   \n",
              "25%      -77.000000    -77.000000    -75.000000    -75.000000    -75.000000   \n",
              "50%      -10.000000    -10.000000    -10.000000     -9.000000     -8.000000   \n",
              "75%       79.000000     77.000000     73.000000     73.000000     70.750000   \n",
              "max     5658.000000   5728.000000   5847.000000   6070.000000   5308.000000   \n",
              "\n",
              "       ...        TS_260        TS_261        TS_262        TS_263  \\\n",
              "count  ...  18370.000000  18370.000000  18370.000000  18370.000000   \n",
              "mean   ...      7.016222      8.752041      8.110343     10.027055   \n",
              "std    ...    198.537713    192.926446    197.262111    199.259975   \n",
              "min    ...  -3479.000000  -2398.000000  -2790.000000  -3484.000000   \n",
              "25%    ...    -60.000000    -59.000000    -59.000000    -59.000000   \n",
              "50%    ...     -9.000000    -10.000000    -10.000000     -9.000000   \n",
              "75%    ...     53.000000     52.000000     52.000000     53.000000   \n",
              "max    ...   3109.000000   4482.000000   5790.000000   5405.000000   \n",
              "\n",
              "             TS_264        TS_265        TS_266        TS_267        TS_268  \\\n",
              "count  18370.000000  18370.000000  18370.000000  18370.000000  18370.000000   \n",
              "mean       7.581383      7.465705      9.962929      9.961132      8.139575   \n",
              "std      196.717561    199.346913    199.376930    197.770150    197.604523   \n",
              "min    -3402.000000  -3597.000000  -3756.000000  -3384.000000  -3154.000000   \n",
              "25%      -60.000000    -60.000000    -59.000000    -59.000000    -59.000000   \n",
              "50%      -10.000000    -10.000000    -10.000000    -10.000000     -9.000000   \n",
              "75%       53.000000     52.000000     55.000000     55.000000     53.000000   \n",
              "max     4082.000000   4027.000000   4170.000000   3503.000000   3908.000000   \n",
              "\n",
              "             TS_269  \n",
              "count  18370.000000  \n",
              "mean       8.737180  \n",
              "std      201.765898  \n",
              "min    -4153.000000  \n",
              "25%      -58.000000  \n",
              "50%      -10.000000  \n",
              "75%       53.000000  \n",
              "max     3190.000000  \n",
              "\n",
              "[8 rows x 270 columns]"
            ],
            "text/html": [
              "\n",
              "  <div id=\"df-aa42642a-dc33-4d75-8971-4b6218c11f2f\">\n",
              "    <div class=\"colab-df-container\">\n",
              "      <div>\n",
              "<style scoped>\n",
              "    .dataframe tbody tr th:only-of-type {\n",
              "        vertical-align: middle;\n",
              "    }\n",
              "\n",
              "    .dataframe tbody tr th {\n",
              "        vertical-align: top;\n",
              "    }\n",
              "\n",
              "    .dataframe thead th {\n",
              "        text-align: right;\n",
              "    }\n",
              "</style>\n",
              "<table border=\"1\" class=\"dataframe\">\n",
              "  <thead>\n",
              "    <tr style=\"text-align: right;\">\n",
              "      <th></th>\n",
              "      <th>TS_0</th>\n",
              "      <th>TS_1</th>\n",
              "      <th>TS_2</th>\n",
              "      <th>TS_3</th>\n",
              "      <th>TS_4</th>\n",
              "      <th>TS_5</th>\n",
              "      <th>TS_6</th>\n",
              "      <th>TS_7</th>\n",
              "      <th>TS_8</th>\n",
              "      <th>TS_9</th>\n",
              "      <th>...</th>\n",
              "      <th>TS_260</th>\n",
              "      <th>TS_261</th>\n",
              "      <th>TS_262</th>\n",
              "      <th>TS_263</th>\n",
              "      <th>TS_264</th>\n",
              "      <th>TS_265</th>\n",
              "      <th>TS_266</th>\n",
              "      <th>TS_267</th>\n",
              "      <th>TS_268</th>\n",
              "      <th>TS_269</th>\n",
              "    </tr>\n",
              "  </thead>\n",
              "  <tbody>\n",
              "    <tr>\n",
              "      <th>count</th>\n",
              "      <td>18370.000000</td>\n",
              "      <td>18370.000000</td>\n",
              "      <td>18370.000000</td>\n",
              "      <td>18370.000000</td>\n",
              "      <td>18370.000000</td>\n",
              "      <td>18370.000000</td>\n",
              "      <td>18370.000000</td>\n",
              "      <td>18370.000000</td>\n",
              "      <td>18370.000000</td>\n",
              "      <td>18370.000000</td>\n",
              "      <td>...</td>\n",
              "      <td>18370.000000</td>\n",
              "      <td>18370.000000</td>\n",
              "      <td>18370.000000</td>\n",
              "      <td>18370.000000</td>\n",
              "      <td>18370.000000</td>\n",
              "      <td>18370.000000</td>\n",
              "      <td>18370.000000</td>\n",
              "      <td>18370.000000</td>\n",
              "      <td>18370.000000</td>\n",
              "      <td>18370.000000</td>\n",
              "    </tr>\n",
              "    <tr>\n",
              "      <th>mean</th>\n",
              "      <td>6.460425</td>\n",
              "      <td>5.024823</td>\n",
              "      <td>4.541698</td>\n",
              "      <td>6.391889</td>\n",
              "      <td>6.158356</td>\n",
              "      <td>5.750136</td>\n",
              "      <td>4.165106</td>\n",
              "      <td>3.910996</td>\n",
              "      <td>3.444529</td>\n",
              "      <td>3.132281</td>\n",
              "      <td>...</td>\n",
              "      <td>7.016222</td>\n",
              "      <td>8.752041</td>\n",
              "      <td>8.110343</td>\n",
              "      <td>10.027055</td>\n",
              "      <td>7.581383</td>\n",
              "      <td>7.465705</td>\n",
              "      <td>9.962929</td>\n",
              "      <td>9.961132</td>\n",
              "      <td>8.139575</td>\n",
              "      <td>8.737180</td>\n",
              "    </tr>\n",
              "    <tr>\n",
              "      <th>std</th>\n",
              "      <td>272.334830</td>\n",
              "      <td>420.495452</td>\n",
              "      <td>402.284830</td>\n",
              "      <td>386.746853</td>\n",
              "      <td>378.025853</td>\n",
              "      <td>364.795591</td>\n",
              "      <td>347.348664</td>\n",
              "      <td>343.027604</td>\n",
              "      <td>337.468859</td>\n",
              "      <td>324.780727</td>\n",
              "      <td>...</td>\n",
              "      <td>198.537713</td>\n",
              "      <td>192.926446</td>\n",
              "      <td>197.262111</td>\n",
              "      <td>199.259975</td>\n",
              "      <td>196.717561</td>\n",
              "      <td>199.346913</td>\n",
              "      <td>199.376930</td>\n",
              "      <td>197.770150</td>\n",
              "      <td>197.604523</td>\n",
              "      <td>201.765898</td>\n",
              "    </tr>\n",
              "    <tr>\n",
              "      <th>min</th>\n",
              "      <td>-3614.000000</td>\n",
              "      <td>-6466.000000</td>\n",
              "      <td>-5019.000000</td>\n",
              "      <td>-4764.000000</td>\n",
              "      <td>-5952.000000</td>\n",
              "      <td>-6422.000000</td>\n",
              "      <td>-5255.000000</td>\n",
              "      <td>-6984.000000</td>\n",
              "      <td>-4687.000000</td>\n",
              "      <td>-5096.000000</td>\n",
              "      <td>...</td>\n",
              "      <td>-3479.000000</td>\n",
              "      <td>-2398.000000</td>\n",
              "      <td>-2790.000000</td>\n",
              "      <td>-3484.000000</td>\n",
              "      <td>-3402.000000</td>\n",
              "      <td>-3597.000000</td>\n",
              "      <td>-3756.000000</td>\n",
              "      <td>-3384.000000</td>\n",
              "      <td>-3154.000000</td>\n",
              "      <td>-4153.000000</td>\n",
              "    </tr>\n",
              "    <tr>\n",
              "      <th>25%</th>\n",
              "      <td>-71.000000</td>\n",
              "      <td>-79.000000</td>\n",
              "      <td>-79.000000</td>\n",
              "      <td>-79.000000</td>\n",
              "      <td>-79.000000</td>\n",
              "      <td>-77.000000</td>\n",
              "      <td>-77.000000</td>\n",
              "      <td>-75.000000</td>\n",
              "      <td>-75.000000</td>\n",
              "      <td>-75.000000</td>\n",
              "      <td>...</td>\n",
              "      <td>-60.000000</td>\n",
              "      <td>-59.000000</td>\n",
              "      <td>-59.000000</td>\n",
              "      <td>-59.000000</td>\n",
              "      <td>-60.000000</td>\n",
              "      <td>-60.000000</td>\n",
              "      <td>-59.000000</td>\n",
              "      <td>-59.000000</td>\n",
              "      <td>-59.000000</td>\n",
              "      <td>-58.000000</td>\n",
              "    </tr>\n",
              "    <tr>\n",
              "      <th>50%</th>\n",
              "      <td>-8.000000</td>\n",
              "      <td>-9.000000</td>\n",
              "      <td>-9.000000</td>\n",
              "      <td>-9.000000</td>\n",
              "      <td>-11.000000</td>\n",
              "      <td>-10.000000</td>\n",
              "      <td>-10.000000</td>\n",
              "      <td>-10.000000</td>\n",
              "      <td>-9.000000</td>\n",
              "      <td>-8.000000</td>\n",
              "      <td>...</td>\n",
              "      <td>-9.000000</td>\n",
              "      <td>-10.000000</td>\n",
              "      <td>-10.000000</td>\n",
              "      <td>-9.000000</td>\n",
              "      <td>-10.000000</td>\n",
              "      <td>-10.000000</td>\n",
              "      <td>-10.000000</td>\n",
              "      <td>-10.000000</td>\n",
              "      <td>-9.000000</td>\n",
              "      <td>-10.000000</td>\n",
              "    </tr>\n",
              "    <tr>\n",
              "      <th>75%</th>\n",
              "      <td>72.000000</td>\n",
              "      <td>82.000000</td>\n",
              "      <td>82.000000</td>\n",
              "      <td>80.000000</td>\n",
              "      <td>80.000000</td>\n",
              "      <td>79.000000</td>\n",
              "      <td>77.000000</td>\n",
              "      <td>73.000000</td>\n",
              "      <td>73.000000</td>\n",
              "      <td>70.750000</td>\n",
              "      <td>...</td>\n",
              "      <td>53.000000</td>\n",
              "      <td>52.000000</td>\n",
              "      <td>52.000000</td>\n",
              "      <td>53.000000</td>\n",
              "      <td>53.000000</td>\n",
              "      <td>52.000000</td>\n",
              "      <td>55.000000</td>\n",
              "      <td>55.000000</td>\n",
              "      <td>53.000000</td>\n",
              "      <td>53.000000</td>\n",
              "    </tr>\n",
              "    <tr>\n",
              "      <th>max</th>\n",
              "      <td>3344.000000</td>\n",
              "      <td>5514.000000</td>\n",
              "      <td>6134.000000</td>\n",
              "      <td>6305.000000</td>\n",
              "      <td>6479.000000</td>\n",
              "      <td>5658.000000</td>\n",
              "      <td>5728.000000</td>\n",
              "      <td>5847.000000</td>\n",
              "      <td>6070.000000</td>\n",
              "      <td>5308.000000</td>\n",
              "      <td>...</td>\n",
              "      <td>3109.000000</td>\n",
              "      <td>4482.000000</td>\n",
              "      <td>5790.000000</td>\n",
              "      <td>5405.000000</td>\n",
              "      <td>4082.000000</td>\n",
              "      <td>4027.000000</td>\n",
              "      <td>4170.000000</td>\n",
              "      <td>3503.000000</td>\n",
              "      <td>3908.000000</td>\n",
              "      <td>3190.000000</td>\n",
              "    </tr>\n",
              "  </tbody>\n",
              "</table>\n",
              "<p>8 rows × 270 columns</p>\n",
              "</div>\n",
              "      <button class=\"colab-df-convert\" onclick=\"convertToInteractive('df-aa42642a-dc33-4d75-8971-4b6218c11f2f')\"\n",
              "              title=\"Convert this dataframe to an interactive table.\"\n",
              "              style=\"display:none;\">\n",
              "        \n",
              "  <svg xmlns=\"http://www.w3.org/2000/svg\" height=\"24px\"viewBox=\"0 0 24 24\"\n",
              "       width=\"24px\">\n",
              "    <path d=\"M0 0h24v24H0V0z\" fill=\"none\"/>\n",
              "    <path d=\"M18.56 5.44l.94 2.06.94-2.06 2.06-.94-2.06-.94-.94-2.06-.94 2.06-2.06.94zm-11 1L8.5 8.5l.94-2.06 2.06-.94-2.06-.94L8.5 2.5l-.94 2.06-2.06.94zm10 10l.94 2.06.94-2.06 2.06-.94-2.06-.94-.94-2.06-.94 2.06-2.06.94z\"/><path d=\"M17.41 7.96l-1.37-1.37c-.4-.4-.92-.59-1.43-.59-.52 0-1.04.2-1.43.59L10.3 9.45l-7.72 7.72c-.78.78-.78 2.05 0 2.83L4 21.41c.39.39.9.59 1.41.59.51 0 1.02-.2 1.41-.59l7.78-7.78 2.81-2.81c.8-.78.8-2.07 0-2.86zM5.41 20L4 18.59l7.72-7.72 1.47 1.35L5.41 20z\"/>\n",
              "  </svg>\n",
              "      </button>\n",
              "      \n",
              "  <style>\n",
              "    .colab-df-container {\n",
              "      display:flex;\n",
              "      flex-wrap:wrap;\n",
              "      gap: 12px;\n",
              "    }\n",
              "\n",
              "    .colab-df-convert {\n",
              "      background-color: #E8F0FE;\n",
              "      border: none;\n",
              "      border-radius: 50%;\n",
              "      cursor: pointer;\n",
              "      display: none;\n",
              "      fill: #1967D2;\n",
              "      height: 32px;\n",
              "      padding: 0 0 0 0;\n",
              "      width: 32px;\n",
              "    }\n",
              "\n",
              "    .colab-df-convert:hover {\n",
              "      background-color: #E2EBFA;\n",
              "      box-shadow: 0px 1px 2px rgba(60, 64, 67, 0.3), 0px 1px 3px 1px rgba(60, 64, 67, 0.15);\n",
              "      fill: #174EA6;\n",
              "    }\n",
              "\n",
              "    [theme=dark] .colab-df-convert {\n",
              "      background-color: #3B4455;\n",
              "      fill: #D2E3FC;\n",
              "    }\n",
              "\n",
              "    [theme=dark] .colab-df-convert:hover {\n",
              "      background-color: #434B5C;\n",
              "      box-shadow: 0px 1px 3px 1px rgba(0, 0, 0, 0.15);\n",
              "      filter: drop-shadow(0px 1px 2px rgba(0, 0, 0, 0.3));\n",
              "      fill: #FFFFFF;\n",
              "    }\n",
              "  </style>\n",
              "\n",
              "      <script>\n",
              "        const buttonEl =\n",
              "          document.querySelector('#df-aa42642a-dc33-4d75-8971-4b6218c11f2f button.colab-df-convert');\n",
              "        buttonEl.style.display =\n",
              "          google.colab.kernel.accessAllowed ? 'block' : 'none';\n",
              "\n",
              "        async function convertToInteractive(key) {\n",
              "          const element = document.querySelector('#df-aa42642a-dc33-4d75-8971-4b6218c11f2f');\n",
              "          const dataTable =\n",
              "            await google.colab.kernel.invokeFunction('convertToInteractive',\n",
              "                                                     [key], {});\n",
              "          if (!dataTable) return;\n",
              "\n",
              "          const docLinkHtml = 'Like what you see? Visit the ' +\n",
              "            '<a target=\"_blank\" href=https://colab.research.google.com/notebooks/data_table.ipynb>data table notebook</a>'\n",
              "            + ' to learn more about interactive tables.';\n",
              "          element.innerHTML = '';\n",
              "          dataTable['output_type'] = 'display_data';\n",
              "          await google.colab.output.renderOutput(dataTable, element);\n",
              "          const docLink = document.createElement('div');\n",
              "          docLink.innerHTML = docLinkHtml;\n",
              "          element.appendChild(docLink);\n",
              "        }\n",
              "      </script>\n",
              "    </div>\n",
              "  </div>\n",
              "  "
            ]
          },
          "metadata": {},
          "execution_count": 3
        }
      ]
    },
    {
      "cell_type": "code",
      "source": [
        "df['CLASS'].value_counts()"
      ],
      "metadata": {
        "id": "xhideFjQS1Gh",
        "outputId": "7b514d2f-3140-4713-b07c-25da6a6f04d0",
        "colab": {
          "base_uri": "https://localhost:8080/"
        }
      },
      "execution_count": null,
      "outputs": [
        {
          "output_type": "execute_result",
          "data": {
            "text/plain": [
              "N    16030\n",
              "A     2340\n",
              "Name: CLASS, dtype: int64"
            ]
          },
          "metadata": {},
          "execution_count": 4
        }
      ]
    },
    {
      "cell_type": "markdown",
      "source": [
        "From the Above Description we conclude that the features are Catagorical as the final \"CLASS\" will either be \"A\" or \"N\".\n"
      ],
      "metadata": {
        "id": "UDCbzxE4jvzO"
      }
    },
    {
      "cell_type": "code",
      "source": [
        "dupcols = set()\n",
        "for x in range(df.shape[1]):\n",
        "  base_col = df.iloc[:,x]\n",
        "  for y in range(x+1, df.shape[1]):\n",
        "    comp_col = df.iloc[:,y]\n",
        "\n",
        "    if base_col.equals(comp_col):\n",
        "      dupcols.add(df.columns.values[y])\n",
        "\n",
        "print(dupcols)\n",
        "\n",
        "## hence we conclude there are no duplicate features in the given data"
      ],
      "metadata": {
        "colab": {
          "base_uri": "https://localhost:8080/"
        },
        "id": "sMhKMde-lpDX",
        "outputId": "37280cc9-7cdc-4ed5-d1ee-f9b732b17ea9"
      },
      "execution_count": null,
      "outputs": [
        {
          "output_type": "stream",
          "name": "stdout",
          "text": [
            "set()\n"
          ]
        }
      ]
    },
    {
      "cell_type": "markdown",
      "source": [
        "# Analysing Features"
      ],
      "metadata": {
        "id": "_lOSBOjzn1hY"
      }
    },
    {
      "cell_type": "code",
      "source": [
        "df['Sum'] = df.sum(axis=1)\n",
        "df['CLASS'].replace({'N':0 , \"A\":1}, inplace = True)\n",
        "corr_matrix = df.corr()\n",
        "(np.sqrt((corr_matrix['CLASS'])*(corr_matrix['CLASS']))).sort_values() "
      ],
      "metadata": {
        "colab": {
          "base_uri": "https://localhost:8080/"
        },
        "id": "fQZPQWamohy9",
        "outputId": "6f65cde7-1b54-4e63-a3b8-ba101aa10c3a"
      },
      "execution_count": null,
      "outputs": [
        {
          "output_type": "stream",
          "name": "stderr",
          "text": [
            "<ipython-input-70-cf4cd9bff158>:1: FutureWarning: Dropping of nuisance columns in DataFrame reductions (with 'numeric_only=None') is deprecated; in a future version this will raise TypeError.  Select only valid columns before calling the reduction.\n",
            "  df['Sum'] = df.sum(axis=1)\n"
          ]
        },
        {
          "output_type": "execute_result",
          "data": {
            "text/plain": [
              "TS_162    0.000024\n",
              "TS_237    0.000038\n",
              "TS_57     0.000101\n",
              "TS_101    0.000178\n",
              "TS_35     0.000214\n",
              "            ...   \n",
              "TS_85     0.017930\n",
              "TS_182    0.018926\n",
              "TS_128    0.019335\n",
              "TS_92     0.021560\n",
              "CLASS     1.000000\n",
              "Name: CLASS, Length: 272, dtype: float64"
            ]
          },
          "metadata": {},
          "execution_count": 70
        }
      ]
    },
    {
      "cell_type": "markdown",
      "source": [
        "This Shows that a lot of features are not effecting the output a lot. We will drop features for whome magnitude of correlation outpur is less than 0.005"
      ],
      "metadata": {
        "id": "COG7ix3Zv2Jl"
      }
    },
    {
      "cell_type": "code",
      "source": [
        "corr_matrix = corr_matrix.unstack()\n",
        "filtered_matrix = corr_matrix[abs(corr_matrix)>0.005]\n",
        "print(filtered_matrix['CLASS'])"
      ],
      "metadata": {
        "id": "VTm3lkaHxNCZ",
        "colab": {
          "base_uri": "https://localhost:8080/"
        },
        "outputId": "8f794b83-bf52-4607-b4ec-ec1b5df79e6f"
      },
      "execution_count": null,
      "outputs": [
        {
          "output_type": "stream",
          "name": "stdout",
          "text": [
            "TS_0      0.013327\n",
            "TS_1      0.006802\n",
            "TS_4     -0.007100\n",
            "TS_6     -0.005801\n",
            "TS_7      0.009615\n",
            "            ...   \n",
            "TS_260    0.005419\n",
            "TS_263   -0.008422\n",
            "TS_267   -0.012598\n",
            "TS_269    0.005345\n",
            "CLASS     1.000000\n",
            "Length: 122, dtype: float64\n"
          ]
        }
      ]
    },
    {
      "cell_type": "code",
      "source": [
        "X = df.drop(columns='CLASS', axis =1)\n",
        "Y = df['CLASS']"
      ],
      "metadata": {
        "id": "OuOZ5_Rw2VJU"
      },
      "execution_count": null,
      "outputs": []
    },
    {
      "cell_type": "code",
      "source": [
        "from sklearn.model_selection import train_test_split\n",
        "# del X_train\n",
        "# del X_test\n",
        "# del Y_train\n",
        "# del Y_test\n",
        "X_train, X_test, Y_train, Y_test = train_test_split(X,Y, test_size =0.2, stratify = Y, random_state =42)"
      ],
      "metadata": {
        "id": "pKEx29dG1_jJ"
      },
      "execution_count": null,
      "outputs": []
    },
    {
      "cell_type": "code",
      "source": [
        "print(X.shape, X_train.shape, X_test.shape)"
      ],
      "metadata": {
        "colab": {
          "base_uri": "https://localhost:8080/"
        },
        "id": "bfJgF9ZP2vv-",
        "outputId": "23e84731-76f1-4483-b728-765c9721e017"
      },
      "execution_count": null,
      "outputs": [
        {
          "output_type": "stream",
          "name": "stdout",
          "text": [
            "(18370, 271) (14696, 271) (3674, 271)\n"
          ]
        }
      ]
    },
    {
      "cell_type": "markdown",
      "source": [
        "# Model Training"
      ],
      "metadata": {
        "id": "ItjCuDIR79uZ"
      }
    },
    {
      "cell_type": "code",
      "source": [
        "df['CLASS'].replace({'N':0 , \"A\":1}, inplace = True)"
      ],
      "metadata": {
        "id": "hJ4xzQXYTr5z"
      },
      "execution_count": null,
      "outputs": []
    },
    {
      "cell_type": "code",
      "source": [
        "df['CLASS'].value_counts()"
      ],
      "metadata": {
        "id": "BdgQ0wsSTvCk",
        "outputId": "70fc23d1-34b7-49ca-d54e-02f58e6adf31",
        "colab": {
          "base_uri": "https://localhost:8080/"
        }
      },
      "execution_count": null,
      "outputs": [
        {
          "output_type": "execute_result",
          "data": {
            "text/plain": [
              "0    16030\n",
              "1     2340\n",
              "Name: CLASS, dtype: int64"
            ]
          },
          "metadata": {},
          "execution_count": 6
        }
      ]
    },
    {
      "cell_type": "code",
      "source": [
        "X = df.drop(columns='CLASS', axis = 1)\n",
        "Y = df['CLASS']\n",
        "print(X)\n",
        "print(Y)"
      ],
      "metadata": {
        "id": "USB7K2kLUXim",
        "outputId": "6ffd8816-9e7e-463e-da3b-da0b7b8b28cc",
        "colab": {
          "base_uri": "https://localhost:8080/"
        }
      },
      "execution_count": null,
      "outputs": [
        {
          "output_type": "stream",
          "name": "stdout",
          "text": [
            "        TS_0   TS_1   TS_2   TS_3   TS_4    TS_5   TS_6   TS_7   TS_8   TS_9  \\\n",
            "0     -127.0 -267.0 -241.0 -229.0 -215.0  -201.0 -253.0 -273.0 -226.0 -172.0   \n",
            "1      -41.0  663.0  -39.0 -113.0  -81.0   -67.0  -45.0   34.0   82.0   62.0   \n",
            "2        7.0    7.0   12.0   18.0   36.0    80.0    0.0  -19.0  418.0  248.0   \n",
            "3      128.0  268.0  244.0  209.0  194.0   234.0  203.0  188.0  211.0  228.0   \n",
            "4       13.0   54.0   80.0   56.0  -36.0  1469.0 -199.0 -180.0 -177.0 -126.0   \n",
            "...      ...    ...    ...    ...    ...     ...    ...    ...    ...    ...   \n",
            "18365  535.0 -186.0  -56.0  -37.0   51.0   156.0  188.0  -46.0 -108.0 -119.0   \n",
            "18366 -278.0 -456.0 -410.0 -372.0 -295.0  -169.0 -117.0 -103.0 -187.0 -159.0   \n",
            "18367  -45.0  -56.0  -69.0  -62.0 -474.0    28.0  -24.0  -24.0  -26.0  -14.0   \n",
            "18368  -26.0  -13.0   63.0   20.0   -3.0   -21.0  -19.0  -82.0 -163.0 -239.0   \n",
            "18369    5.0  -70.0  -95.0 -185.0 -122.0    62.0   79.0   87.0   97.0   43.0   \n",
            "\n",
            "       ...  TS_260  TS_261  TS_262  TS_263  TS_264  TS_265  TS_266  TS_267  \\\n",
            "0      ...   -26.0   -29.0   -22.0   -19.0   -22.0   -43.0   -53.0   -23.0   \n",
            "1      ...   -88.0   -22.0    42.0   104.0    32.0     2.0     2.0   -13.0   \n",
            "2      ...   -27.0   -22.0   -33.0   -31.0   -34.0   -11.0     1.0    -8.0   \n",
            "3      ...     1.0   -70.0   -62.0   -44.0   393.0   -74.0   -84.0   -65.0   \n",
            "4      ...     0.0   -15.0   -37.0   -50.0   -21.0    30.0    17.0  1571.0   \n",
            "...    ...     ...     ...     ...     ...     ...     ...     ...     ...   \n",
            "18365  ...  -352.0   -44.0     5.0     1.0    78.0   137.0    46.0   -45.0   \n",
            "18366  ...   -38.0     7.0   -53.0   -72.0   -53.0   -13.0   358.0  -272.0   \n",
            "18367  ...    32.0    49.0    50.0    32.0    23.0    46.0    46.0    27.0   \n",
            "18368  ...    61.0    15.0    37.0    30.0   137.0  -928.0    95.0    50.0   \n",
            "18369  ...    65.0   -36.0    30.0    63.0    76.0    66.0    60.0    19.0   \n",
            "\n",
            "       TS_268  TS_269  \n",
            "0        22.0   -31.0  \n",
            "1       -16.0     6.0  \n",
            "2        12.0    62.0  \n",
            "3       -30.0    -6.0  \n",
            "4      -165.0  -201.0  \n",
            "...       ...     ...  \n",
            "18365   -29.0   -33.0  \n",
            "18366   -15.0    21.0  \n",
            "18367    -5.0    51.0  \n",
            "18368    34.0    36.0  \n",
            "18369   -26.0   -40.0  \n",
            "\n",
            "[18370 rows x 270 columns]\n",
            "0        0\n",
            "1        0\n",
            "2        0\n",
            "3        0\n",
            "4        0\n",
            "        ..\n",
            "18365    1\n",
            "18366    1\n",
            "18367    1\n",
            "18368    1\n",
            "18369    1\n",
            "Name: CLASS, Length: 18370, dtype: int64\n"
          ]
        }
      ]
    },
    {
      "cell_type": "code",
      "source": [
        "from sklearn.model_selection import train_test_split\n",
        "X_train, X_test, Y_train, Y_test = train_test_split(X,Y,test_size = 0.2, stratify = Y, random_state =2)"
      ],
      "metadata": {
        "id": "cMlvQ-i9U93k"
      },
      "execution_count": null,
      "outputs": []
    },
    {
      "cell_type": "code",
      "source": [
        "print(X_train.shape)\n",
        "print(X_test.shape)"
      ],
      "metadata": {
        "id": "upugAb5vV2kv",
        "outputId": "8b647590-d171-4220-b8cc-ae43143d84b8",
        "colab": {
          "base_uri": "https://localhost:8080/"
        }
      },
      "execution_count": null,
      "outputs": [
        {
          "output_type": "stream",
          "name": "stdout",
          "text": [
            "(14696, 270)\n",
            "(3674, 270)\n"
          ]
        }
      ]
    },
    {
      "cell_type": "code",
      "source": [
        "# # using logical regression model\n",
        "from sklearn.linear_model import LogisticRegression\n",
        "model = LogisticRegression()"
      ],
      "metadata": {
        "id": "KMwIXd0m20XW"
      },
      "execution_count": null,
      "outputs": []
    },
    {
      "cell_type": "code",
      "source": [
        "# # using descision tree model\n",
        "# from sklearn.tree import DecisionTreeRegressor\n",
        "# from sklearn.model_selection import cross_val_score\n",
        "# model = DecisionTreeRegressor()\n",
        "model.fit(X_train,Y_train)\n"
      ],
      "metadata": {
        "id": "4Sfuls-NWtfy",
        "outputId": "4d8a6f0b-5146-44bb-ff72-c96c6aa1be34",
        "colab": {
          "base_uri": "https://localhost:8080/",
          "height": 74
        }
      },
      "execution_count": null,
      "outputs": [
        {
          "output_type": "execute_result",
          "data": {
            "text/plain": [
              "LogisticRegression()"
            ],
            "text/html": [
              "<style>#sk-container-id-3 {color: black;background-color: white;}#sk-container-id-3 pre{padding: 0;}#sk-container-id-3 div.sk-toggleable {background-color: white;}#sk-container-id-3 label.sk-toggleable__label {cursor: pointer;display: block;width: 100%;margin-bottom: 0;padding: 0.3em;box-sizing: border-box;text-align: center;}#sk-container-id-3 label.sk-toggleable__label-arrow:before {content: \"▸\";float: left;margin-right: 0.25em;color: #696969;}#sk-container-id-3 label.sk-toggleable__label-arrow:hover:before {color: black;}#sk-container-id-3 div.sk-estimator:hover label.sk-toggleable__label-arrow:before {color: black;}#sk-container-id-3 div.sk-toggleable__content {max-height: 0;max-width: 0;overflow: hidden;text-align: left;background-color: #f0f8ff;}#sk-container-id-3 div.sk-toggleable__content pre {margin: 0.2em;color: black;border-radius: 0.25em;background-color: #f0f8ff;}#sk-container-id-3 input.sk-toggleable__control:checked~div.sk-toggleable__content {max-height: 200px;max-width: 100%;overflow: auto;}#sk-container-id-3 input.sk-toggleable__control:checked~label.sk-toggleable__label-arrow:before {content: \"▾\";}#sk-container-id-3 div.sk-estimator input.sk-toggleable__control:checked~label.sk-toggleable__label {background-color: #d4ebff;}#sk-container-id-3 div.sk-label input.sk-toggleable__control:checked~label.sk-toggleable__label {background-color: #d4ebff;}#sk-container-id-3 input.sk-hidden--visually {border: 0;clip: rect(1px 1px 1px 1px);clip: rect(1px, 1px, 1px, 1px);height: 1px;margin: -1px;overflow: hidden;padding: 0;position: absolute;width: 1px;}#sk-container-id-3 div.sk-estimator {font-family: monospace;background-color: #f0f8ff;border: 1px dotted black;border-radius: 0.25em;box-sizing: border-box;margin-bottom: 0.5em;}#sk-container-id-3 div.sk-estimator:hover {background-color: #d4ebff;}#sk-container-id-3 div.sk-parallel-item::after {content: \"\";width: 100%;border-bottom: 1px solid gray;flex-grow: 1;}#sk-container-id-3 div.sk-label:hover label.sk-toggleable__label {background-color: #d4ebff;}#sk-container-id-3 div.sk-serial::before {content: \"\";position: absolute;border-left: 1px solid gray;box-sizing: border-box;top: 0;bottom: 0;left: 50%;z-index: 0;}#sk-container-id-3 div.sk-serial {display: flex;flex-direction: column;align-items: center;background-color: white;padding-right: 0.2em;padding-left: 0.2em;position: relative;}#sk-container-id-3 div.sk-item {position: relative;z-index: 1;}#sk-container-id-3 div.sk-parallel {display: flex;align-items: stretch;justify-content: center;background-color: white;position: relative;}#sk-container-id-3 div.sk-item::before, #sk-container-id-3 div.sk-parallel-item::before {content: \"\";position: absolute;border-left: 1px solid gray;box-sizing: border-box;top: 0;bottom: 0;left: 50%;z-index: -1;}#sk-container-id-3 div.sk-parallel-item {display: flex;flex-direction: column;z-index: 1;position: relative;background-color: white;}#sk-container-id-3 div.sk-parallel-item:first-child::after {align-self: flex-end;width: 50%;}#sk-container-id-3 div.sk-parallel-item:last-child::after {align-self: flex-start;width: 50%;}#sk-container-id-3 div.sk-parallel-item:only-child::after {width: 0;}#sk-container-id-3 div.sk-dashed-wrapped {border: 1px dashed gray;margin: 0 0.4em 0.5em 0.4em;box-sizing: border-box;padding-bottom: 0.4em;background-color: white;}#sk-container-id-3 div.sk-label label {font-family: monospace;font-weight: bold;display: inline-block;line-height: 1.2em;}#sk-container-id-3 div.sk-label-container {text-align: center;}#sk-container-id-3 div.sk-container {/* jupyter's `normalize.less` sets `[hidden] { display: none; }` but bootstrap.min.css set `[hidden] { display: none !important; }` so we also need the `!important` here to be able to override the default hidden behavior on the sphinx rendered scikit-learn.org. See: https://github.com/scikit-learn/scikit-learn/issues/21755 */display: inline-block !important;position: relative;}#sk-container-id-3 div.sk-text-repr-fallback {display: none;}</style><div id=\"sk-container-id-3\" class=\"sk-top-container\"><div class=\"sk-text-repr-fallback\"><pre>LogisticRegression()</pre><b>In a Jupyter environment, please rerun this cell to show the HTML representation or trust the notebook. <br />On GitHub, the HTML representation is unable to render, please try loading this page with nbviewer.org.</b></div><div class=\"sk-container\" hidden><div class=\"sk-item\"><div class=\"sk-estimator sk-toggleable\"><input class=\"sk-toggleable__control sk-hidden--visually\" id=\"sk-estimator-id-3\" type=\"checkbox\" checked><label for=\"sk-estimator-id-3\" class=\"sk-toggleable__label sk-toggleable__label-arrow\">LogisticRegression</label><div class=\"sk-toggleable__content\"><pre>LogisticRegression()</pre></div></div></div></div></div>"
            ]
          },
          "metadata": {},
          "execution_count": 22
        }
      ]
    },
    {
      "cell_type": "markdown",
      "source": [
        "LogisticRegression model gives better results than decision tree in our case"
      ],
      "metadata": {
        "id": "6v8vo5p5HmWO"
      }
    },
    {
      "cell_type": "markdown",
      "source": [
        "# Model evaluation - Accuracy score"
      ],
      "metadata": {
        "id": "uS3aTk9cQPsh"
      }
    },
    {
      "cell_type": "markdown",
      "source": [
        "Accuracy on training set"
      ],
      "metadata": {
        "id": "sKKR0krcI0SI"
      }
    },
    {
      "cell_type": "code",
      "source": [
        "from sklearn.metrics import accuracy_score\n",
        "X_train_predict = model.predict(X_train)\n",
        "training_data_accuracy = accuracy_score(X_train_predict, Y_train)\n",
        "print(training_data_accuracy)"
      ],
      "metadata": {
        "colab": {
          "base_uri": "https://localhost:8080/"
        },
        "id": "D7Ibn8FEP51S",
        "outputId": "ea19b5a1-4349-4b91-b137-3922542e9a7d"
      },
      "execution_count": null,
      "outputs": [
        {
          "output_type": "stream",
          "name": "stdout",
          "text": [
            "0.8731627653783343\n"
          ]
        }
      ]
    },
    {
      "cell_type": "markdown",
      "source": [
        "Accuracy on test set"
      ],
      "metadata": {
        "id": "OAGadg8iI3Sv"
      }
    },
    {
      "cell_type": "code",
      "source": [
        "from sklearn.metrics import accuracy_score\n",
        "X_test_predict = model.predict(X_test)\n",
        "test_data_accuracy = accuracy_score(X_test_predict, Y_test)\n",
        "print(test_data_accuracy)"
      ],
      "metadata": {
        "colab": {
          "base_uri": "https://localhost:8080/"
        },
        "id": "OPkjI7ANRI_i",
        "outputId": "8e4f07a3-da32-4b01-e964-e001e33fad74"
      },
      "execution_count": null,
      "outputs": [
        {
          "output_type": "stream",
          "name": "stdout",
          "text": [
            "0.871801850843767\n"
          ]
        }
      ]
    }
  ]
}